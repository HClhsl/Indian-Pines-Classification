{
 "cells": [
  {
   "cell_type": "code",
   "execution_count": 33,
   "id": "initial_id",
   "metadata": {
    "ExecuteTime": {
     "end_time": "2024-11-21T04:13:07.355628Z",
     "start_time": "2024-11-21T04:13:05.111820Z"
    },
    "collapsed": true
   },
   "outputs": [],
   "source": [
    "import torch\n",
    "import torch.nn as nn\n",
    "import torch.nn.functional as F\n",
    "from torch.utils.data import Dataset, DataLoader,random_split\n",
    "from tqdm import tqdm"
   ]
  },
  {
   "cell_type": "code",
   "execution_count": 34,
   "id": "c6de5b3234d6668f",
   "metadata": {
    "ExecuteTime": {
     "end_time": "2024-11-21T04:13:08.159439Z",
     "start_time": "2024-11-21T04:13:08.155938Z"
    }
   },
   "outputs": [],
   "source": [
    "#Multiple Receptive Field Fusion\n",
    "class MultipleReceptiveFiledFusion(nn.Module):\n",
    "    def __init__(self):\n",
    "        super().__init__()\n",
    "        self.conv1=nn.Conv2d(in_channels=200, out_channels=50, kernel_size=1, bias=False)\n",
    "        self.conv2=nn.Conv2d(in_channels=50, out_channels=50, kernel_size=3, dilation=1, stride=1, padding=1, bias=False)\n",
    "        self.conv3=nn.Conv2d(in_channels=50, out_channels=50, kernel_size=3, dilation=2, stride=1, padding=2, bias=False)\n",
    "        self.conv4=nn.Conv2d(in_channels=50, out_channels=50, kernel_size=3, dilation=3, stride=1, padding=3, bias=False)\n",
    "        self.conv5=nn.Conv2d(in_channels=50, out_channels=50, kernel_size=3, dilation=4, stride=1, padding=4, bias=False)\n",
    "        self.conv6=nn.Conv2d(in_channels=200, out_channels=200, kernel_size=1, stride=1)\n",
    "\n",
    "    def forward(self, x):\n",
    "        x1=self.conv1(x)\n",
    "        print(x1.shape)\n",
    "        x2_1=self.conv2(x1)\n",
    "        print(x2_1.shape)\n",
    "        x2_2=self.conv3(x1)+x2_1\n",
    "        print(x2_2.shape)\n",
    "        x2_3=self.conv4(x1)+x2_2\n",
    "        print(x2_3.shape)\n",
    "        x2_4=self.conv5(x1)+x2_3\n",
    "        print(x2_4.shape)\n",
    "        x3=torch.cat((x2_1,x2_2,x2_3,x2_4),dim=1)\n",
    "        print(f'x3:{x3.shape},x:{x.shape}')\n",
    "        x3=self.conv6(x3)+x\n",
    "        print(f'x3:{x3.shape}')\n",
    "        return x3"
   ]
  },
  {
   "cell_type": "code",
   "execution_count": 35,
   "id": "78892bb4bd323f9f",
   "metadata": {
    "ExecuteTime": {
     "end_time": "2024-11-21T04:14:00.672985Z",
     "start_time": "2024-11-21T04:14:00.670151Z"
    }
   },
   "outputs": [],
   "source": [
    "class ResMRFF(nn.Module):\n",
    "    def __init__(self):\n",
    "        super().__init__()\n",
    "        self.dropout = nn.Dropout(0.5)\n",
    "        self.InstNorm2D=nn.InstanceNorm2d(num_features=200, affine=True)\n",
    "        self.relu=nn.ReLU()\n",
    "        self.MRFF=MultipleReceptiveFiledFusion()\n",
    "    def forward(self, x):\n",
    "        t=x\n",
    "        x=self.MRFF(x)\n",
    "        x=self.dropout(x)\n",
    "        x=self.InstNorm2D(x)\n",
    "        x=self.relu(x)\n",
    "        x=self.MRFF(x)\n",
    "        x=self.dropout(x)\n",
    "        x=self.InstNorm2D(x)\n",
    "        x=self.relu(x)\n",
    "        return x+t"
   ]
  },
  {
   "cell_type": "code",
   "execution_count": 36,
   "id": "5b448dbf7c9766da",
   "metadata": {
    "ExecuteTime": {
     "end_time": "2024-11-21T04:14:02.706924Z",
     "start_time": "2024-11-21T04:14:02.653315Z"
    }
   },
   "outputs": [
    {
     "data": {
      "text/plain": [
       "torch.Size([145, 145, 200])"
      ]
     },
     "execution_count": 36,
     "metadata": {},
     "output_type": "execute_result"
    }
   ],
   "source": [
    "data=torch.load('IndianPines.pt',weights_only=True)['InputData']\n",
    "labels=torch.load('IndianPines.pt',weights_only=True)['Label']\n",
    "data.shape"
   ]
  },
  {
   "cell_type": "code",
   "execution_count": 37,
   "id": "b61510e5",
   "metadata": {},
   "outputs": [],
   "source": [
    "data = data.unsqueeze(0).permute(0, 3, 1, 2)"
   ]
  },
  {
   "cell_type": "code",
   "execution_count": 38,
   "id": "b0f98044c06345ce",
   "metadata": {
    "ExecuteTime": {
     "end_time": "2024-11-21T04:14:39.254074Z",
     "start_time": "2024-11-21T04:14:39.066800Z"
    }
   },
   "outputs": [
    {
     "name": "stdout",
     "output_type": "stream",
     "text": [
      "torch.Size([1, 50, 145, 145])\n",
      "torch.Size([1, 50, 145, 145])\n",
      "torch.Size([1, 50, 145, 145])\n",
      "torch.Size([1, 50, 145, 145])\n",
      "torch.Size([1, 50, 145, 145])\n",
      "x3:torch.Size([1, 200, 145, 145]),x:torch.Size([1, 200, 145, 145])\n",
      "x3:torch.Size([1, 200, 145, 145])\n",
      "torch.Size([1, 50, 145, 145])\n",
      "torch.Size([1, 50, 145, 145])\n",
      "torch.Size([1, 50, 145, 145])\n",
      "torch.Size([1, 50, 145, 145])\n",
      "torch.Size([1, 50, 145, 145])\n",
      "x3:torch.Size([1, 200, 145, 145]),x:torch.Size([1, 200, 145, 145])\n",
      "x3:torch.Size([1, 200, 145, 145])\n"
     ]
    }
   ],
   "source": [
    "net=ResMRFF()\n",
    "output=net(data)"
   ]
  },
  {
   "cell_type": "code",
   "execution_count": 11,
   "id": "14059ed38259271",
   "metadata": {
    "ExecuteTime": {
     "end_time": "2024-11-19T13:47:23.408146Z",
     "start_time": "2024-11-19T13:47:23.404880Z"
    }
   },
   "outputs": [],
   "source": [
    "class CustomDataset(Dataset):\n",
    "    def __init__(self, data_list, label_list, transform=None):\n",
    "        self.data_list = data_list\n",
    "        self.label_list = label_list\n",
    "        self.transform = transform\n",
    "\n",
    "    def __len__(self):\n",
    "        return len(self.data_list)\n",
    "\n",
    "    def __getitem__(self, index):\n",
    "        data = self.data_list[index]\n",
    "        label = self.label_list[index]\n",
    "\n",
    "        # 如果有转换操作，则应用它\n",
    "        if self.transform:\n",
    "            data = self.transform(data)\n",
    "\n",
    "        return data, label\n",
    "\n",
    "IndianPines=CustomDataset(data_list=data, label_list=labels)"
   ]
  },
  {
   "cell_type": "code",
   "execution_count": null,
   "id": "c8745521fbc10065",
   "metadata": {},
   "outputs": [],
   "source": [
    "# TrainDataSet, ValDataSet=random_split(IndianPines, [len(IndianPines)*0.2, len(IndianPines)*0.8])\n",
    "#\n",
    "# TrainDataloader = DataLoader(TrainDataSet, batch_size=32, shuffle=True)\n",
    "# ValDataloader = DataLoader(ValDataSet, batch_size=32, shuffle=False)\n"
   ]
  },
  {
   "cell_type": "code",
   "execution_count": null,
   "id": "cfbe631f64585c31",
   "metadata": {},
   "outputs": [],
   "source": []
  }
 ],
 "metadata": {
  "kernelspec": {
   "display_name": "IndianPines",
   "language": "python",
   "name": "python3"
  },
  "language_info": {
   "codemirror_mode": {
    "name": "ipython",
    "version": 3
   },
   "file_extension": ".py",
   "mimetype": "text/x-python",
   "name": "python",
   "nbconvert_exporter": "python",
   "pygments_lexer": "ipython3",
   "version": "3.12.7"
  }
 },
 "nbformat": 4,
 "nbformat_minor": 5
}
