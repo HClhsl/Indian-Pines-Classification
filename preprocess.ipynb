{
 "cells": [
  {
   "metadata": {
    "ExecuteTime": {
     "end_time": "2024-11-19T11:39:28.807637Z",
     "start_time": "2024-11-19T11:39:28.803223Z"
    }
   },
   "cell_type": "code",
   "source": [
    "from scipy.io import loadmat\n",
    "import numpy as np\n",
    "import torch"
   ],
   "id": "ca86c848d604885a",
   "outputs": [],
   "execution_count": 9
  },
  {
   "metadata": {
    "ExecuteTime": {
     "end_time": "2024-11-19T11:39:28.871971Z",
     "start_time": "2024-11-19T11:39:28.825951Z"
    }
   },
   "cell_type": "code",
   "source": [
    "IndianPinesDict=loadmat('Indian_pines_corrected.mat')\n",
    "IndianPinesLabelDict=loadmat('Indian_pines_gt.mat')\n",
    "IndianPinesArray=IndianPinesDict['indian_pines_corrected']\n",
    "IndianPinesLabelArray=IndianPinesLabelDict['indian_pines_gt']\n",
    "IndianPines=torch.Tensor(IndianPinesArray)\n",
    "IndianPinesLabel=torch.Tensor(IndianPinesLabelArray)\n",
    "IndianPines"
   ],
   "id": "45570b8a90864cc7",
   "outputs": [
    {
     "data": {
      "text/plain": [
       "tensor([[[3172., 4142., 4506.,  ..., 1057., 1020., 1020.],\n",
       "         [2580., 4266., 4502.,  ..., 1064., 1029., 1020.],\n",
       "         [3687., 4266., 4421.,  ..., 1061., 1030., 1016.],\n",
       "         ...,\n",
       "         [2570., 3890., 4320.,  ..., 1042., 1021., 1015.],\n",
       "         [3170., 4130., 4320.,  ..., 1054., 1024., 1020.],\n",
       "         [3172., 3890., 4316.,  ..., 1043., 1034., 1016.]],\n",
       "\n",
       "        [[2576., 4388., 4334.,  ..., 1047., 1030., 1006.],\n",
       "         [2747., 4264., 4592.,  ..., 1055., 1039., 1015.],\n",
       "         [2750., 4268., 4423.,  ..., 1047., 1026., 1015.],\n",
       "         ...,\n",
       "         [3859., 4512., 4605.,  ..., 1056., 1035., 1015.],\n",
       "         [3686., 4264., 4690.,  ..., 1051., 1012., 1020.],\n",
       "         [2744., 4268., 4597.,  ..., 1047., 1019., 1016.]],\n",
       "\n",
       "        [[2744., 4146., 4416.,  ..., 1055., 1029., 1025.],\n",
       "         [2576., 4389., 4416.,  ..., 1051., 1021., 1011.],\n",
       "         [2744., 4273., 4420.,  ..., 1068., 1033., 1010.],\n",
       "         ...,\n",
       "         [2570., 4266., 4509.,  ..., 1051., 1025., 1010.],\n",
       "         [2576., 4262., 4496.,  ..., 1047., 1029., 1020.],\n",
       "         [2742., 4142., 4230.,  ..., 1042., 1025., 1011.]],\n",
       "\n",
       "        ...,\n",
       "\n",
       "        [[3324., 3728., 4002.,  ..., 1003., 1004., 1004.],\n",
       "         [2983., 3604., 3829.,  ..., 1011., 1013., 1008.],\n",
       "         [2988., 3612., 3913.,  ..., 1012., 1001., 1004.],\n",
       "         ...,\n",
       "         [2564., 4115., 4103.,  ..., 1003., 1005., 1013.],\n",
       "         [2730., 4111., 4103.,  ..., 1015., 1013., 1004.],\n",
       "         [3156., 3991., 4103.,  ..., 1017., 1014., 1000.]],\n",
       "\n",
       "        [[3161., 3731., 3834.,  ..., 1002., 1000., 1000.],\n",
       "         [2727., 3742., 4011.,  ...,  999.,  991., 1003.],\n",
       "         [2988., 4114., 4011.,  ..., 1006., 1008., 1013.],\n",
       "         ...,\n",
       "         [3156., 3858., 4016.,  ..., 1011., 1004., 1003.],\n",
       "         [3159., 3858., 4100.,  ..., 1016., 1000., 1000.],\n",
       "         [2561., 3866., 4003.,  ..., 1008., 1008., 1000.]],\n",
       "\n",
       "        [[2979., 3728., 3732.,  ..., 1006., 1004., 1000.],\n",
       "         [2977., 3728., 3741.,  ..., 1007., 1009.,  990.],\n",
       "         [2814., 3728., 3914.,  ...,  999., 1009., 1003.],\n",
       "         ...,\n",
       "         [3153., 3864., 4282.,  ..., 1003., 1008., 1000.],\n",
       "         [3155., 4104., 4106.,  ..., 1011., 1005., 1003.],\n",
       "         [3323., 3860., 4197.,  ..., 1007., 1004., 1000.]]])"
      ]
     },
     "execution_count": 10,
     "metadata": {},
     "output_type": "execute_result"
    }
   ],
   "execution_count": 10
  },
  {
   "metadata": {
    "ExecuteTime": {
     "end_time": "2024-11-19T11:39:28.937394Z",
     "start_time": "2024-11-19T11:39:28.934749Z"
    }
   },
   "cell_type": "code",
   "source": "IndianPines.shape",
   "id": "f13847774443beba",
   "outputs": [
    {
     "data": {
      "text/plain": [
       "torch.Size([145, 145, 200])"
      ]
     },
     "execution_count": 11,
     "metadata": {},
     "output_type": "execute_result"
    }
   ],
   "execution_count": 11
  },
  {
   "metadata": {
    "ExecuteTime": {
     "end_time": "2024-11-19T11:39:29.013784Z",
     "start_time": "2024-11-19T11:39:29.011135Z"
    }
   },
   "cell_type": "code",
   "source": "IndianPinesLabel.shape",
   "id": "8bc43445213aff80",
   "outputs": [
    {
     "data": {
      "text/plain": [
       "torch.Size([145, 145])"
      ]
     },
     "execution_count": 12,
     "metadata": {},
     "output_type": "execute_result"
    }
   ],
   "execution_count": 12
  },
  {
   "metadata": {
    "ExecuteTime": {
     "end_time": "2024-11-19T11:42:12.832212Z",
     "start_time": "2024-11-19T11:42:12.798379Z"
    }
   },
   "cell_type": "code",
   "source": [
    "IndianPines={'InputData':IndianPines,'Label':IndianPinesLabel}\n",
    "torch.save(IndianPines,'IndianPines.pt')"
   ],
   "id": "cc64e24c8e256390",
   "outputs": [],
   "execution_count": 13
  }
 ],
 "metadata": {
  "kernelspec": {
   "display_name": "Python 3",
   "language": "python",
   "name": "python3"
  },
  "language_info": {
   "codemirror_mode": {
    "name": "ipython",
    "version": 2
   },
   "file_extension": ".py",
   "mimetype": "text/x-python",
   "name": "python",
   "nbconvert_exporter": "python",
   "pygments_lexer": "ipython2",
   "version": "2.7.6"
  }
 },
 "nbformat": 4,
 "nbformat_minor": 5
}
